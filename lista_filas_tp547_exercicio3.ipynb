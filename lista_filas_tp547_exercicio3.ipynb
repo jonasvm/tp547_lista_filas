{
  "nbformat": 4,
  "nbformat_minor": 0,
  "metadata": {
    "colab": {
      "provenance": []
    },
    "kernelspec": {
      "name": "python3",
      "display_name": "Python 3"
    },
    "language_info": {
      "name": "python"
    }
  },
  "cells": [
    {
      "cell_type": "code",
      "execution_count": 1,
      "metadata": {
        "colab": {
          "base_uri": "https://localhost:8080/"
        },
        "id": "WnE6kWcV_yG2",
        "outputId": "040c9519-2bd1-414f-f578-fa7d1247bb25"
      },
      "outputs": [
        {
          "output_type": "stream",
          "name": "stdout",
          "text": [
            "K\tP_bloqueio\t\tL_medio\t\t\tW_medio\n",
            "1\t0.4444444444\t0.4444444444\t0.0040000000\n",
            "5\t0.0012271938\t0.7990182449\t0.0040000000\n",
            "10\t0.0000000133\t0.7999999894\t0.0040000000\n",
            "15\t0.0000000000\t0.8000000000\t0.0040000000\n"
          ]
        }
      ],
      "source": [
        "import math\n",
        "\n",
        "# Função para calcular a probabilidade de bloqueio em um sistema M/M/1/K\n",
        "def mm1k_blocking_probability(lambda_rate, mu_rate, K):\n",
        "    # Taxa de utilização do sistema (rho)\n",
        "    rho = lambda_rate / mu_rate\n",
        "\n",
        "    # Numerador da fórmula de Erlang-B para P_K\n",
        "    numerator = (rho**K) / math.factorial(K)\n",
        "\n",
        "    # Denominador da fórmula de Erlang-B, somatório de 0 até K\n",
        "    denominator = sum((rho**n) / math.factorial(n) for n in range(K + 1))\n",
        "\n",
        "    # Probabilidade de bloqueio (P_K)\n",
        "    P_K = numerator / denominator\n",
        "    return P_K\n",
        "\n",
        "# Função para calcular o número médio de elementos no sistema e a probabilidade de ter exatamente K elementos\n",
        "def mm1k_average_elements(lambda_rate, mu_rate, K):\n",
        "    # Taxa de utilização do sistema (rho)\n",
        "    rho = lambda_rate / mu_rate\n",
        "\n",
        "    # Cálculo das probabilidades P_n para n de 0 até K\n",
        "    P = [((rho**n) / math.factorial(n)) for n in range(K + 1)]\n",
        "\n",
        "    # Somatório das probabilidades para normalização\n",
        "    P_sum = sum(P)\n",
        "\n",
        "    # Normalizando as probabilidades\n",
        "    P = [p / P_sum for p in P]\n",
        "\n",
        "    # Número médio de elementos no sistema (L)\n",
        "    L = sum(n * P[n] for n in range(K + 1))\n",
        "    return L, P[K]  # Retorna L e a probabilidade de ter exatamente K elementos no sistema (P_K)\n",
        "\n",
        "# Função para calcular o tempo médio no sistema (W) usando a fórmula de Little\n",
        "def mm1k_time_in_system(L, lambda_rate, P_block):\n",
        "    # Tempo médio no sistema (W)\n",
        "    W = L / (lambda_rate * (1 - P_block))\n",
        "    return W\n",
        "\n",
        "# Dados do problema\n",
        "lambda_rate = 200  # Taxa de chegada (lambda): 200 pacotes por segundo\n",
        "mu_rate = 250  # Taxa de serviço (mu): 250 pacotes por segundo (calculado a partir de 256 kbps e 128 bytes por pacote)\n",
        "\n",
        "# Valores de K para os quais queremos calcular as métricas\n",
        "K_values = [1, 5, 10, 15]\n",
        "\n",
        "# Lista para armazenar os resultados\n",
        "results = []\n",
        "\n",
        "# Calcula as métricas para cada valor de K\n",
        "for K in K_values:\n",
        "    # Calcula a probabilidade de bloqueio para K\n",
        "    P_block = mm1k_blocking_probability(lambda_rate, mu_rate, K)\n",
        "\n",
        "    # Calcula o número médio de elementos no sistema e a probabilidade de ter exatamente K elementos\n",
        "    L, P_K = mm1k_average_elements(lambda_rate, mu_rate, K)\n",
        "\n",
        "    # Calcula o tempo médio no sistema (W)\n",
        "    W = mm1k_time_in_system(L, lambda_rate, P_K)\n",
        "\n",
        "    # Armazena os resultados\n",
        "    results.append((K, P_block, L, W))\n",
        "\n",
        "# Imprime os resultados em formato tabular\n",
        "print(\"K\\tP_bloqueio\\t\\tL_medio\\t\\t\\tW_medio\")\n",
        "for K, P_block, L, W in results:\n",
        "    print(f\"{K}\\t{P_block:.10f}\\t{L:.10f}\\t{W:.10f}\")\n"
      ]
    }
  ]
}