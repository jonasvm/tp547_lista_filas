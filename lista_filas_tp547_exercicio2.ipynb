{
  "nbformat": 4,
  "nbformat_minor": 0,
  "metadata": {
    "colab": {
      "provenance": []
    },
    "kernelspec": {
      "name": "python3",
      "display_name": "Python 3"
    },
    "language_info": {
      "name": "python"
    }
  },
  "cells": [
    {
      "cell_type": "code",
      "execution_count": 1,
      "metadata": {
        "colab": {
          "base_uri": "https://localhost:8080/"
        },
        "id": "azj11KDF_EZR",
        "outputId": "3753af71-2e1e-4b25-f7e8-dc52658a86e2"
      },
      "outputs": [
        {
          "output_type": "stream",
          "name": "stdout",
          "text": [
            "Requirement already satisfied: numpy in /usr/local/lib/python3.10/dist-packages (1.25.2)\n",
            "Requirement already satisfied: scipy in /usr/local/lib/python3.10/dist-packages (1.11.4)\n",
            "Tempo médio de permanência de um pacote no comutador (W): 0.0167 segundos\n",
            "Tempo médio de espera na fila (Wq): 0.0067 segundos\n"
          ]
        }
      ],
      "source": [
        "# Importando as bibliotecas necessárias\n",
        "!pip install numpy scipy\n",
        "\n",
        "import numpy as np\n",
        "from scipy.stats import expon\n",
        "\n",
        "# Definindo os parâmetros do problema\n",
        "lambda_rate = 40  # pacotes por segundo\n",
        "avg_packet_size_bits = 5000  # bits por pacote\n",
        "transmission_rate_bps = 500000  # bits por segundo\n",
        "\n",
        "# Calculando a taxa de serviço\n",
        "mu_rate = transmission_rate_bps / avg_packet_size_bits  # pacotes por segundo\n",
        "\n",
        "# a) Tempo médio de permanência de um pacote no comutador (esperando na fila e sendo transmitido)\n",
        "# Usando a fórmula do modelo M/M/1: W = 1 / (mu - lambda)\n",
        "W = 1 / (mu_rate - lambda_rate)\n",
        "\n",
        "# b) Tempo médio de espera na fila\n",
        "# Usando a fórmula do modelo M/M/1: Wq = lambda / (mu * (mu - lambda))\n",
        "Wq = lambda_rate / (mu_rate * (mu_rate - lambda_rate))\n",
        "\n",
        "# Exibindo os resultados\n",
        "print(f\"Tempo médio de permanência de um pacote no comutador (W): {W:.4f} segundos\")\n",
        "print(f\"Tempo médio de espera na fila (Wq): {Wq:.4f} segundos\")\n"
      ]
    }
  ]
}