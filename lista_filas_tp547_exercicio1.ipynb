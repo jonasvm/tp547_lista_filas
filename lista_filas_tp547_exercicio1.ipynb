{
  "nbformat": 4,
  "nbformat_minor": 0,
  "metadata": {
    "colab": {
      "provenance": []
    },
    "kernelspec": {
      "name": "python3",
      "display_name": "Python 3"
    },
    "language_info": {
      "name": "python"
    }
  },
  "cells": [
    {
      "cell_type": "code",
      "execution_count": 2,
      "metadata": {
        "colab": {
          "base_uri": "https://localhost:8080/"
        },
        "id": "ST1du60t-N-q",
        "outputId": "12797c4f-7c61-4361-878e-81dad5c46ece"
      },
      "outputs": [
        {
          "output_type": "stream",
          "name": "stdout",
          "text": [
            "Tempo médio dos carros no sistema (W): 2.50 minutos\n",
            "Número médio de carros na fila (L_q): 0.90 carros\n"
          ]
        }
      ],
      "source": [
        "# Importando bibliotecas necessárias\n",
        "import math\n",
        "\n",
        "# Dados do problema\n",
        "lambda_rate = 3 / 5  # 3 carros a cada 5 minutos = 0.6 carros por minuto\n",
        "mu_rate = 1 / 1  # 1 minuto por atendimento = 1 carro por minuto\n",
        "\n",
        "# Tempo médio dos carros no sistema (W) - M/M/1\n",
        "def tempo_medio_no_sistema(lambda_rate, mu_rate):\n",
        "    W = 1 / (mu_rate - lambda_rate)\n",
        "    return W\n",
        "\n",
        "# Número médio de carros na fila (L_q) - M/M/1\n",
        "def numero_medio_na_fila(lambda_rate, mu_rate):\n",
        "    L_q = (lambda_rate ** 2) / (mu_rate * (mu_rate - lambda_rate))\n",
        "    return L_q\n",
        "\n",
        "# Resultados\n",
        "tempo_medio_sistema = tempo_medio_no_sistema(lambda_rate, mu_rate)\n",
        "numero_medio_fila = numero_medio_na_fila(lambda_rate, mu_rate)\n",
        "\n",
        "print(f\"Tempo médio dos carros no sistema (W): {tempo_medio_sistema:.2f} minutos\")\n",
        "print(f\"Número médio de carros na fila (L_q): {numero_medio_fila:.2f} carros\")\n"
      ]
    }
  ]
}