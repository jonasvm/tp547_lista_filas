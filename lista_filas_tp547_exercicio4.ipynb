{
  "nbformat": 4,
  "nbformat_minor": 0,
  "metadata": {
    "colab": {
      "provenance": []
    },
    "kernelspec": {
      "name": "python3",
      "display_name": "Python 3"
    },
    "language_info": {
      "name": "python"
    }
  },
  "cells": [
    {
      "cell_type": "code",
      "execution_count": 1,
      "metadata": {
        "colab": {
          "base_uri": "https://localhost:8080/"
        },
        "id": "zSDUntFqARqS",
        "outputId": "a0b237a6-b210-41c0-8692-fc91be916102"
      },
      "outputs": [
        {
          "output_type": "stream",
          "name": "stdout",
          "text": [
            "Tempo médio no sistema (comprimento constante - M/D/1): 0.225 segundos\n",
            "Tempo médio no sistema (comprimento exponencial - M/M/1): 0.25 segundos\n"
          ]
        }
      ],
      "source": [
        "# Bibliotecas necessárias\n",
        "import math\n",
        "\n",
        "# Parâmetros do problema\n",
        "lambda_rate = 1  # Taxa de chegada: 1 mensagem por segundo\n",
        "average_message_size = 2000  # Tamanho médio da mensagem: 2000 bits\n",
        "transmission_rate = 10000  # Capacidade do meio de transmissão: 10000 bits por segundo\n",
        "\n",
        "# Taxa de serviço (μ)\n",
        "mu_rate = transmission_rate / average_message_size  # mensagens por segundo\n",
        "\n",
        "# Função para calcular o tempo médio no sistema para o modelo M/D/1\n",
        "def calculate_md1(lambda_rate, mu_rate):\n",
        "    W = (1 / mu_rate) + (lambda_rate / (2 * mu_rate * (mu_rate - lambda_rate)))\n",
        "    return W\n",
        "\n",
        "# Função para calcular o tempo médio no sistema para o modelo M/M/1\n",
        "def calculate_mm1(lambda_rate, mu_rate):\n",
        "    W = 1 / (mu_rate - lambda_rate)\n",
        "    return W\n",
        "\n",
        "# Calcular o tempo médio no sistema para o modelo M/D/1 (comprimento constante)\n",
        "W_md1 = calculate_md1(lambda_rate, mu_rate)\n",
        "\n",
        "# Calcular o tempo médio no sistema para o modelo M/M/1 (comprimento exponencial)\n",
        "W_mm1 = calculate_mm1(lambda_rate, mu_rate)\n",
        "\n",
        "# Exibir os resultados\n",
        "print(\"Tempo médio no sistema (comprimento constante - M/D/1):\", W_md1, \"segundos\")\n",
        "print(\"Tempo médio no sistema (comprimento exponencial - M/M/1):\", W_mm1, \"segundos\")\n"
      ]
    }
  ]
}